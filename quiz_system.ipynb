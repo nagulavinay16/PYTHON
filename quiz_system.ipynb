{
 "cells": [
  {
   "cell_type": "code",
   "execution_count": 2,
   "metadata": {},
   "outputs": [
    {
     "name": "stdout",
     "output_type": "stream",
     "text": [
      "1+1=2\n",
      "1\n",
      "2+2=4\n",
      "2\n",
      "8-4=4\n",
      "3\n",
      "9+3=12\n",
      "4\n"
     ]
    }
   ],
   "source": [
    "questions=open('questions.txt','r')\n",
    "\n",
    "questions_list=[line.strip() for line in questions]\n",
    "\n",
    "questions.close()\n",
    "\n",
    "score=0\n",
    "total=len(questions_list)\n",
    "\n",
    "for line in questions_list:\n",
    "    q,a=line.split('=')\n",
    "    ans=input(f\"{q}=\" )\n",
    "    \n",
    "    if a==ans:\n",
    "        score=score+1\n",
    "        print(score)\n",
    "        \n",
    "result=open('result.txt','w')\n",
    "result.write(f\"your final score is {score}/{total}\")\n",
    "\n",
    "result.close()\n"
   ]
  },
  {
   "cell_type": "code",
   "execution_count": null,
   "metadata": {},
   "outputs": [],
   "source": []
  },
  {
   "cell_type": "code",
   "execution_count": null,
   "metadata": {},
   "outputs": [],
   "source": []
  }
 ],
 "metadata": {
  "kernelspec": {
   "display_name": "Python 3",
   "language": "python",
   "name": "python3"
  },
  "language_info": {
   "codemirror_mode": {
    "name": "ipython",
    "version": 3
   },
   "file_extension": ".py",
   "mimetype": "text/x-python",
   "name": "python",
   "nbconvert_exporter": "python",
   "pygments_lexer": "ipython3",
   "version": "3.7.3"
  }
 },
 "nbformat": 4,
 "nbformat_minor": 2
}
