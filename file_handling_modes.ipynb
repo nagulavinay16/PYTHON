{
 "cells": [
  {
   "cell_type": "code",
   "execution_count": 29,
   "metadata": {},
   "outputs": [
    {
     "name": "stdout",
     "output_type": "stream",
     "text": [
      "Hello, world\n",
      "This is vinay\n",
      "Hello, world\n",
      "\n",
      "['Hello, world\\n', 'This is vinay']\n"
     ]
    }
   ],
   "source": [
    "file_contents=open(\"hello.txt\",\"r\")          #to open and read a file\n",
    "print(file_contents.read())\n",
    "file_contents.close()\n",
    "\n",
    "\n",
    "file_contents=open(\"hello.txt\",\"r\")            # to open and read line by line\n",
    "print(file_contents.readline())\n",
    "file_contents.close()\n",
    "\n",
    "\n",
    "file_contents=open(\"hello.txt\",\"r\")           #to open and read all lines\n",
    "print(file_contents.readlines())\n",
    "file_contents.close()\n",
    "\n",
    "\n",
    "#file=open(\"hello.txt\",\"w\")                  # to open and overwrite to a file\n",
    "#file.write(\"include selvam \")\n",
    "#file.close()\n",
    "\n",
    "\n",
    "#file=open(\"hello.txt\",\"w\")                  # to open and overwrite line byline\n",
    "#lines_of_text = [\"a line of text\", \"another line of text\", \"a third line\"]\n",
    "#file.writelines(lines_of_text)\n",
    "#file.close()\n",
    "\n",
    "\n",
    "file = open(\"Hello.txt\", \"a\")               # to open and add to a file without overwriting\n",
    "file.write(\"Hello World again\")\n",
    "file.close()\n",
    "\n",
    "\n"
   ]
  },
  {
   "cell_type": "code",
   "execution_count": null,
   "metadata": {},
   "outputs": [],
   "source": []
  },
  {
   "cell_type": "code",
   "execution_count": null,
   "metadata": {},
   "outputs": [],
   "source": []
  }
 ],
 "metadata": {
  "kernelspec": {
   "display_name": "Python 3",
   "language": "python",
   "name": "python3"
  },
  "language_info": {
   "codemirror_mode": {
    "name": "ipython",
    "version": 3
   },
   "file_extension": ".py",
   "mimetype": "text/x-python",
   "name": "python",
   "nbconvert_exporter": "python",
   "pygments_lexer": "ipython3",
   "version": "3.7.3"
  }
 },
 "nbformat": 4,
 "nbformat_minor": 2
}
