{
 "cells": [
  {
   "cell_type": "code",
   "execution_count": 13,
   "metadata": {},
   "outputs": [
    {
     "name": "stdout",
     "output_type": "stream",
     "text": [
      "\"Hope\" is the thing with feathers   by Emily Dickinson \n",
      "Though the word \"bird\" is used just once, the creature practically flies out of the page when reading this poem. \n",
      "Choosing just one Dickinson poem for this list was no easy task, but given everything happening in the world right now, her poem centered on hope seemed just right. "
     ]
    }
   ],
   "source": [
    "# Write a function in python to read the content from \n",
    "# a text file \"poem.txt\" line by line and display the same on screen.\n",
    "\n",
    "\"\"\"file=open(\"poem.txt\",\"r\")\n",
    "\n",
    "for line in file:\n",
    "    print(line,end=\"\")\n",
    "\n",
    "file.close()\"\"\"\n",
    "\n",
    "def read_file():\n",
    "    file = open(\"poem.txt\",\"r\")\n",
    "    for line in file:\n",
    "        print(line, end=\"\")\n",
    "    file.close()\n",
    "\n",
    "read_file()"
   ]
  },
  {
   "cell_type": "code",
   "execution_count": 15,
   "metadata": {},
   "outputs": [
    {
     "name": "stdout",
     "output_type": "stream",
     "text": [
      "No of lines not starting with 'T'=2\n"
     ]
    }
   ],
   "source": [
    "# Write a program in python to count the number of lines \n",
    "# from a text file \"poem.txt\" which is not starting with an alphabet \"T\". \n",
    "\n",
    "# Example: If the file \"story.txt\" contains the following lines: A boy is playing there.\n",
    "# There is a playground.\n",
    "# An aeroplane is in the sky.\n",
    "# The sky is pink.\n",
    "# Alphabets and numbers are allowed in the password.\n",
    "# The function should display the output as 3\n",
    "\n",
    "file=open(\"poem.txt\",\"r\")\n",
    "count=0\n",
    "for line in file:\n",
    "    if line[0] not in 'T':\n",
    "        count+=1\n",
    "        \n",
    "print(f\"No of lines not starting with 'T'={count}\") \n",
    "\n",
    "file.close()\n",
    "    \n",
    "\n",
    "\n",
    "\n"
   ]
  },
  {
   "cell_type": "code",
   "execution_count": 17,
   "metadata": {},
   "outputs": [
    {
     "name": "stdout",
     "output_type": "stream",
     "text": [
      "No of words in file:  58\n"
     ]
    }
   ],
   "source": [
    "# Write a program in Python to count and display the total number of words in a text file.\n",
    "\n",
    "file=open(\"poem.txt\",\"r\")\n",
    "data=file.read()\n",
    "words=data.split()\n",
    "\n",
    "print(f\"No of words in file:  {len(words)}\")\n",
    "\n",
    "file.close()"
   ]
  },
  {
   "cell_type": "code",
   "execution_count": 20,
   "metadata": {},
   "outputs": [
    {
     "name": "stdout",
     "output_type": "stream",
     "text": [
      "No of 'the' words in file: 5\n"
     ]
    }
   ],
   "source": [
    "# Write a program in Python to read lines from a text file \"poem.txt\". \n",
    "# Your function should find and display the occurrence of the word \"the\".\n",
    "\n",
    "# For example: If the content of the file is:\n",
    "# \"India is the fastest-growing economy. India is looking for more investments around the globe. The whole world is looking at India as a great market. Most of the Indians can foresee the heights that India is capable of reaching.\"\n",
    "\n",
    "# The output should be 5.\n",
    "\n",
    "file=open(\"poem.txt\",\"r\")\n",
    "\n",
    "data=file.read()\n",
    "words=data.split()\n",
    "\n",
    "count=0\n",
    "\n",
    "for word in words:\n",
    "    if word==\"the\" or word==\"The\":\n",
    "        count+=1\n",
    "        \n",
    "print(f\"No of 'the' words in file: {count}\")\n",
    "\n",
    "file.close()\n"
   ]
  },
  {
   "cell_type": "code",
   "execution_count": 28,
   "metadata": {},
   "outputs": [
    {
     "name": "stdout",
     "output_type": "stream",
     "text": [
      "is\n",
      "the\n",
      "by\n",
      "the\n",
      "is\n",
      "the\n",
      "out\n",
      "of\n",
      "the\n",
      "one\n",
      "for\n",
      "was\n",
      "no\n",
      "but\n",
      "in\n",
      "the\n",
      "her\n",
      "on\n",
      "Word with length smaller than 4 :-18\n"
     ]
    }
   ],
   "source": [
    "# Write a program display_words in python to read lines from a text file \"poem.txt\", \n",
    "# and display those words, which are less than 4 characters.\n",
    "\n",
    "file=open(\"poem.txt\",\"r\")\n",
    "lst = file.readlines()\n",
    "count=0\n",
    "for i in lst :\n",
    "    \n",
    "    word = i.split()\n",
    "    for j in word :\n",
    "        \n",
    "        if len( j ) < 4 :\n",
    "            print( j )\n",
    "            count+=1\n",
    "\n",
    "print(f\"Word with length smaller than 4 :-{count}\")\n",
    "\n",
    "file.close()"
   ]
  },
  {
   "cell_type": "code",
   "execution_count": 31,
   "metadata": {},
   "outputs": [
    {
     "name": "stdout",
     "output_type": "stream",
     "text": [
      "9\n"
     ]
    }
   ],
   "source": [
    "# Write a program in Python to count words in a text file those are ending with alphabet \"e\"and capital starting words\n",
    "\n",
    "file = open(\"poem.txt\",\"r\")\n",
    "count = 0\n",
    "data = file.read()\n",
    "words = data.split()\n",
    "for word in words:\n",
    "    if word[-1] == 'e':\n",
    "        count+=1\n",
    "print(count)\n",
    "\n",
    "\n",
    "\n",
    "file.close()\n",
    "\n"
   ]
  },
  {
   "cell_type": "code",
   "execution_count": 14,
   "metadata": {},
   "outputs": [
    {
     "name": "stdout",
     "output_type": "stream",
     "text": [
      "\"Hope\" is the thing with feathers   by Emily Dickinson \n",
      "Though the word \"bird\" is used just once, the creature practically flies out of the page when reading this poem. \n",
      "Choosing just one Dickinson poem for this list was no easy task, but given everything happening in the world right now, her poem centered on hope seemed just right. \n",
      "WELL, THIS IS A WORD BY ITSELF. YOU COULD STRETCH THIS TO BE A SENTENCE"
     ]
    }
   ],
   "source": [
    "# Aditi has used a text editing software to type some text. After saving the article as poem.txt, \n",
    "# she realised that she has wrongly typed alphabet J in place of alphabet I everywhere in the article.\n",
    "# Write a function definition for JTOI() in Python that would display the corrected version of entire content \n",
    "# of the file WORDS.TXT with all the alphabets \"J\" to be displayed as an alphabet \"I\" on screen.\n",
    "\n",
    "# Note: Assuming that WORD.TXT does not contain any J alphabet otherwise.\n",
    "\n",
    "# Example:\n",
    "# If Aditi has stored the following content in the file WORDS.TXT:\n",
    "# WELL, THJS JS A WORD BY JTSELF. YOU COULD STRETCH THJS TO BE A SENTENCE\n",
    "# The function JTOI() should display the following content:\n",
    "# WELL, THIS IS A WORD BY ITSELF. YOU COULD STRETCH THIS TO BE A SENTENCE\n",
    "\n",
    "\n",
    "def JTOI():\n",
    "    file=open(\"poem.txt\",\"r\")\n",
    "    data=file.read()\n",
    "    for letter in data:\n",
    "        if letter=='J':\n",
    "            print(\"I\",end=\"\")\n",
    "        else:\n",
    "            print(letter,end=\"\")\n",
    "            \n",
    "    file.close()\n",
    "JTOI()\n",
    "    "
   ]
  },
  {
   "cell_type": "code",
   "execution_count": 33,
   "metadata": {},
   "outputs": [
    {
     "name": "stdout",
     "output_type": "stream",
     "text": [
      "A or a: 12\n",
      "M or m: 5\n"
     ]
    }
   ],
   "source": [
    "# Write a function AMCount() in Python, which should read each character of a text file poem.txt, \n",
    "# should count and display the occurance of alphabets A and M (including small cases a and m too).\n",
    "# For Example:\n",
    "# If the file content is as follows:\n",
    "# Updated information\n",
    "# As simplified by official websites.\n",
    "# The EUCount() function should display the output as:\n",
    "# A or a:4\n",
    "# M or m :2\n",
    "\n",
    "\n",
    "\n",
    "def AMcount():\n",
    "    file = open('poem.txt','r')\n",
    "    data = file.read()\n",
    "    counta=0\n",
    "    countm=0\n",
    "    for letter in data:\n",
    "        if letter=='A' or letter=='a':\n",
    "            counta+=1\n",
    "        elif letter=='M' or letter=='m':\n",
    "            countm+=1\n",
    "\n",
    "    file.close()\n",
    "    print(f'A or a: {counta}')\n",
    "    print(f'M or m: {countm}')\n",
    "\n",
    "AMcount()\n",
    "    "
   ]
  },
  {
   "cell_type": "code",
   "execution_count": 2,
   "metadata": {},
   "outputs": [
    {
     "name": "stdout",
     "output_type": "stream",
     "text": [
      "Enter book number: 1\n",
      "Enter book Name: nagula\n",
      "Enter author: nagulavinay\n",
      "Enter price: 200\n",
      "Add more record (y/n)? y\n",
      "Enter book number: 2\n",
      "Enter book Name: nagulavinay\n",
      "Enter author: nagulavinay\n",
      "Enter price: 200\n",
      "Add more record (y/n)? n\n",
      "Enter author name to search: nagulavinay\n",
      "No of books are 2\n"
     ]
    }
   ],
   "source": [
    "# A binary file \"Book.dat\" has structure [BookNo, Book_Name, Author, Price].\n",
    "# i. Write a user defined function createFile() to input data for a record and add to Book.dat.\n",
    "# ii. Write a function countRec(Author) in Python which accepts the Author name as parameter \n",
    "# and count and return number of books by the given Author are stored in the binary file \"Book.data\"\n",
    "import pickle\n",
    "\n",
    "def createFile():\n",
    "    file = open(\"book.data\",\"ab\")\n",
    "    BookNo = int(input(\"Enter book number: \"))\n",
    "    Book_Name = input(\"Enter book Name: \")\n",
    "    Author =input(\"Enter author: \")\n",
    "    Price = int(input(\"Enter price: \"))\n",
    "    record = [BookNo, Book_Name, Author, Price]\n",
    "    pickle.dump(record, file)\n",
    "    file.close()\n",
    "    \n",
    "def countRec(Author):\n",
    "    file = open(\"book.data\",\"rb\")\n",
    "    count = 0\n",
    "    try:\n",
    "        while True:\n",
    "            record = pickle.load(file)\n",
    "            if record[2]==Author:\n",
    "                count+=1\n",
    "    except EOFError:\n",
    "        pass\n",
    "    return count\n",
    "    file.close()\n",
    "\n",
    "#To test working of functions\n",
    "def testProgram():\n",
    "    while True:\n",
    "        createFile()\n",
    "        choice = input(\"Add more record (y/n)? \")\n",
    "        if choice in 'Nn':\n",
    "            break\n",
    "    Author = input('Enter author name to search: ')\n",
    "    n = countRec(Author)\n",
    "    print(\"No of books are\",n)\n",
    "\n",
    "testProgram() "
   ]
  },
  {
   "cell_type": "code",
   "execution_count": 6,
   "metadata": {},
   "outputs": [
    {
     "data": {
      "text/plain": [
       "0"
      ]
     },
     "execution_count": 6,
     "metadata": {},
     "output_type": "execute_result"
    }
   ],
   "source": [
    "# A binary file \"student.data\" has structure (admission_number, Name, Percentage). \n",
    "# Write a function count_rec() in Python that would read contents of the file \"student.data\" \n",
    "# and display the details of those students whose percentage is above 75. \n",
    "# Also display number of students scoring above 75%\n",
    "import pickle\n",
    "def count_rec():\n",
    "    data = open (\"student.dat\",\"rb\")\n",
    "    num = 0\n",
    "    try:\n",
    "        while True:\n",
    "            rec = pickle.load(data)\n",
    "            if rec[2]>75:\n",
    "                print(rec[0],rec[1],rec[2],sep=\"\\t\")\n",
    "                num = num+1\n",
    "    except:\n",
    "        data.close()\n",
    "        return num\n",
    "count_rec()"
   ]
  },
  {
   "cell_type": "code",
   "execution_count": 9,
   "metadata": {},
   "outputs": [
    {
     "ename": "UnpicklingError",
     "evalue": "could not find MARK",
     "output_type": "error",
     "traceback": [
      "\u001b[1;31m---------------------------------------------------------------------------\u001b[0m",
      "\u001b[1;31mUnpicklingError\u001b[0m                           Traceback (most recent call last)",
      "\u001b[1;32m<ipython-input-9-ea0d35d2db48>\u001b[0m in \u001b[0;36m<module>\u001b[1;34m\u001b[0m\n\u001b[0;32m     13\u001b[0m     \u001b[0mfile\u001b[0m\u001b[1;33m.\u001b[0m\u001b[0mclose\u001b[0m\u001b[1;33m(\u001b[0m\u001b[1;33m)\u001b[0m\u001b[1;33m\u001b[0m\u001b[1;33m\u001b[0m\u001b[0m\n\u001b[0;32m     14\u001b[0m \u001b[1;33m\u001b[0m\u001b[0m\n\u001b[1;32m---> 15\u001b[1;33m \u001b[0msearch\u001b[0m\u001b[1;33m(\u001b[0m\u001b[1;33m)\u001b[0m\u001b[1;33m\u001b[0m\u001b[1;33m\u001b[0m\u001b[0m\n\u001b[0m",
      "\u001b[1;32m<ipython-input-9-ea0d35d2db48>\u001b[0m in \u001b[0;36msearch\u001b[1;34m()\u001b[0m\n\u001b[0;32m      6\u001b[0m     \u001b[1;32mtry\u001b[0m\u001b[1;33m:\u001b[0m\u001b[1;33m\u001b[0m\u001b[1;33m\u001b[0m\u001b[0m\n\u001b[0;32m      7\u001b[0m         \u001b[1;32mwhile\u001b[0m \u001b[1;32mTrue\u001b[0m\u001b[1;33m:\u001b[0m\u001b[1;33m\u001b[0m\u001b[1;33m\u001b[0m\u001b[0m\n\u001b[1;32m----> 8\u001b[1;33m             \u001b[0mrecord\u001b[0m \u001b[1;33m=\u001b[0m \u001b[0mpickle\u001b[0m\u001b[1;33m.\u001b[0m\u001b[0mload\u001b[0m\u001b[1;33m(\u001b[0m\u001b[0mfile\u001b[0m\u001b[1;33m)\u001b[0m\u001b[1;33m\u001b[0m\u001b[1;33m\u001b[0m\u001b[0m\n\u001b[0m\u001b[0;32m      9\u001b[0m             \u001b[1;32mif\u001b[0m \u001b[0mrecord\u001b[0m\u001b[1;33m[\u001b[0m\u001b[1;36m0\u001b[0m\u001b[1;33m]\u001b[0m \u001b[1;33m==\u001b[0m \u001b[1;36m1\u001b[0m\u001b[1;33m:\u001b[0m\u001b[1;33m\u001b[0m\u001b[1;33m\u001b[0m\u001b[0m\n\u001b[0;32m     10\u001b[0m                 \u001b[0mprint\u001b[0m\u001b[1;33m(\u001b[0m\u001b[0mrecord\u001b[0m\u001b[1;33m)\u001b[0m\u001b[1;33m\u001b[0m\u001b[1;33m\u001b[0m\u001b[0m\n",
      "\u001b[1;31mUnpicklingError\u001b[0m: could not find MARK"
     ]
    }
   ],
   "source": [
    "# Write a function to search and display details of student whose rollno is '1' \n",
    "# from the binary file student.dat having structure [rollno, name, percentage].\n",
    "import pickle\n",
    "def search():\n",
    "    file = open(\"student.dat\",\"rb\")\n",
    "    try:\n",
    "        while True:\n",
    "            record = pickle.load(file)\n",
    "            if record[0] == 1:\n",
    "                print(record)\n",
    "    except EOFError:\n",
    "        pass\n",
    "    file.close()\n",
    "    \n",
    "search()"
   ]
  },
  {
   "cell_type": "code",
   "execution_count": null,
   "metadata": {},
   "outputs": [],
   "source": []
  }
 ],
 "metadata": {
  "kernelspec": {
   "display_name": "Python 3",
   "language": "python",
   "name": "python3"
  },
  "language_info": {
   "codemirror_mode": {
    "name": "ipython",
    "version": 3
   },
   "file_extension": ".py",
   "mimetype": "text/x-python",
   "name": "python",
   "nbconvert_exporter": "python",
   "pygments_lexer": "ipython3",
   "version": "3.7.3"
  }
 },
 "nbformat": 4,
 "nbformat_minor": 2
}
