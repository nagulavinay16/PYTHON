{
 "cells": [
  {
   "cell_type": "code",
   "execution_count": 8,
   "metadata": {},
   "outputs": [
    {
     "name": "stdout",
     "output_type": "stream",
     "text": [
      "your car is not in Garage\n",
      "The garage now has 0 cars.\n"
     ]
    }
   ],
   "source": [
    "class Car:                            #class to initialise and return objects\n",
    "    \n",
    "    def __init__(self,make,model):    #Initiating objects make and model \n",
    "        self.make=make\n",
    "        self.model=model\n",
    "        \n",
    "    def __repr__(self):\n",
    "        return f'<Car {self.make} {self.model}>'  # returns the string object\n",
    "    \n",
    "class Garage:\n",
    "    def __init__(self):                 \n",
    "        self.cars=[]            #cars list is created             \n",
    "    \n",
    "    def __len__(self):\n",
    "        return len(self.cars)           #returns len of the string\n",
    "    \n",
    "    def add_car(self,car):               #function to add cars to class Garage\n",
    "        if not isinstance(car, Car):     #isinstance returns true or false if object is of specified type\n",
    "            raise TypeError(f'Tried to add a `{car.__class__.__name__}` to the garage, but you can only add `Car` objects.')\n",
    "        self.cars.append(car)           #adds car objects to the list cars\n",
    "        \n",
    "        \n",
    "ford=Garage()\n",
    "fiesta=Car('Ford','Fiesta')\n",
    "\n",
    "try:\n",
    "    ford.add_car('Fiesta')             #adds Fiesta to the garage-ford by calling add_car function\n",
    "    ford.add_car('mercy')\n",
    "except TypeError:\n",
    "    print(\"your car is not in Garage\")\n",
    "    \n",
    "except ValueError:\n",
    "    print(\"something wierd happened\")\n",
    "    \n",
    "finally:\n",
    "    print(f\"The garage now has {len(ford)} cars.\")            #block is compulsorily executed\n"
   ]
  },
  {
   "cell_type": "code",
   "execution_count": null,
   "metadata": {},
   "outputs": [],
   "source": []
  }
 ],
 "metadata": {
  "kernelspec": {
   "display_name": "Python 3",
   "language": "python",
   "name": "python3"
  },
  "language_info": {
   "codemirror_mode": {
    "name": "ipython",
    "version": 3
   },
   "file_extension": ".py",
   "mimetype": "text/x-python",
   "name": "python",
   "nbconvert_exporter": "python",
   "pygments_lexer": "ipython3",
   "version": "3.7.3"
  }
 },
 "nbformat": 4,
 "nbformat_minor": 2
}
