{
 "cells": [
  {
   "cell_type": "code",
   "execution_count": 3,
   "metadata": {},
   "outputs": [
    {
     "name": "stdout",
     "output_type": "stream",
     "text": [
      "Rolf is 25 years, studying Computer science at Mit\n",
      "Jose is 90 years, studying Computing at Oxford\n",
      "Anna is 30 years, studying Physics at Cambridge\n"
     ]
    }
   ],
   "source": [
    "file=open('csv_read.txt','r')\n",
    "lines=file.readlines()\n",
    "\n",
    "file.close()\n",
    "\n",
    "lines=[line.strip() for line in lines[1:]]\n",
    "\n",
    "for line in lines:\n",
    "    person_data=line.split(',')\n",
    "    name=person_data[0].title()\n",
    "    age=person_data[1]\n",
    "    university=person_data[2].title()\n",
    "    degree=person_data[3].title()\n",
    "    \n",
    "    print(f'{name} is {age} years, studying {degree} at {university}')\n"
   ]
  },
  {
   "cell_type": "code",
   "execution_count": null,
   "metadata": {},
   "outputs": [],
   "source": []
  },
  {
   "cell_type": "code",
   "execution_count": null,
   "metadata": {},
   "outputs": [],
   "source": []
  }
 ],
 "metadata": {
  "kernelspec": {
   "display_name": "Python 3",
   "language": "python",
   "name": "python3"
  },
  "language_info": {
   "codemirror_mode": {
    "name": "ipython",
    "version": 3
   },
   "file_extension": ".py",
   "mimetype": "text/x-python",
   "name": "python",
   "nbconvert_exporter": "python",
   "pygments_lexer": "ipython3",
   "version": "3.7.3"
  }
 },
 "nbformat": 4,
 "nbformat_minor": 2
}
