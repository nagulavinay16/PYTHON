{
 "cells": [
  {
   "cell_type": "code",
   "execution_count": 1,
   "metadata": {},
   "outputs": [
    {
     "name": "stdout",
     "output_type": "stream",
     "text": [
      "<class 'bool'>\n",
      "1467210928\n"
     ]
    }
   ],
   "source": [
    "#Declare a boolean value and store it in a variable. \n",
    "bool_var = True\n",
    "\n",
    "\n",
    "#Check the type and print the id of the same.\n",
    "print(type(bool_var))\n",
    "print(id(bool_var))\n"
   ]
  },
  {
   "cell_type": "code",
   "execution_count": 2,
   "metadata": {},
   "outputs": [
    {
     "name": "stdout",
     "output_type": "stream",
     "text": [
      "1467210928\n",
      "1467210928\n"
     ]
    }
   ],
   "source": [
    "#Take one boolean value\n",
    "#Assign it to two different variables.\n",
    "\n",
    "bool_var_1 = True\n",
    "bool_var_2 = True\n",
    "\n",
    "\n",
    "\n",
    "#Check the id of both the variables. It should come same. Check why?\n",
    "print(id(bool_var_1))\n",
    "print(id(bool_var_2))\n"
   ]
  },
  {
   "cell_type": "code",
   "execution_count": 3,
   "metadata": {},
   "outputs": [
    {
     "name": "stdout",
     "output_type": "stream",
     "text": [
      "Enter any number between 0-256: 23\n",
      "Enter any number between 0-256: 52\n",
      "sum of bool_var_1 is bool_var_2 2\n",
      "Difference of bool_var_1 is bool_var_2 0\n",
      "Product of bool_var_1 is bool_var_2 1\n",
      "Division result of bool_var_1 by bool_var_2 is 1.0\n",
      "Quotient result of bool_var_1 by bool_var_2 is 1\n",
      "Remainder result of bool_var_1 by bool_var_2 is 0\n",
      "bool_var_1 to the power bool_var_2 is  1\n"
     ]
    }
   ],
   "source": [
    "#Arithmatic Operations on boolean data\n",
    "#Take two different boolean values.\n",
    "#Store them in two different variables.\n",
    "\n",
    "\n",
    "\n",
    "#Do below operations on them:-\n",
    "    #Find sum of both values\n",
    "    \n",
    "\n",
    "\n",
    "    #Find differce between them\n",
    "\n",
    "\n",
    "\n",
    "    #Find the product of both.\n",
    "\n",
    "\n",
    "\n",
    "    #Find value after dividing first value with second value\n",
    "    \n",
    "\n",
    "    \n",
    "    #Find the remainder after dividing first value with second value\n",
    "    \n",
    "\n",
    "    \n",
    "    #Find the quotient after dividing first value with second value\n",
    "    \n",
    "\n",
    "    \n",
    "    #Find the result of first value to the power of second value.\n",
    "    \n",
    "bool_var_1 = bool(int(input('Enter any number between 0-256: ')))\n",
    "bool_var_2 = bool(int(input('Enter any number between 0-256: ')))\n",
    "\n",
    "print('sum of bool_var_1 is bool_var_2', bool_var_1 + bool_var_2)\n",
    "print('Difference of bool_var_1 is bool_var_2', bool_var_1 - bool_var_2)\n",
    "print('Product of bool_var_1 is bool_var_2', bool_var_1 * bool_var_2)\n",
    "print('Division result of bool_var_1 by bool_var_2 is', bool_var_1 / bool_var_2)\n",
    "print('Quotient result of bool_var_1 by bool_var_2 is', bool_var_1 // bool_var_2)\n",
    "print('Remainder result of bool_var_1 by bool_var_2 is', bool_var_1 % bool_var_2)\n",
    "print('bool_var_1 to the power bool_var_2 is ', bool_var_1 ** bool_var_2)"
   ]
  },
  {
   "cell_type": "code",
   "execution_count": 7,
   "metadata": {},
   "outputs": [
    {
     "name": "stdout",
     "output_type": "stream",
     "text": [
      "Enter any number between 0-256: 23\n",
      "Enter any number between 0-256: 56\n",
      "bool_var_1 > bool_var_2 False\n",
      "bool_var_1 < bool_var_2 False\n",
      "bool_var_1 <= bool_var_2 True\n",
      "bool_var_1 >= bool_var_2 True\n",
      "bool_var_1 == bool_var_2 True\n",
      "bool_var_1 != bool_var_2 False\n"
     ]
    }
   ],
   "source": [
    "#Comparison Operators on boolean values\n",
    "#Take two different boolean values.\n",
    "#Store them in two different variables.\n",
    "\n",
    "\n",
    "\n",
    "#Do below operations on them:-\n",
    "    #Compare these two values with below operator:-\n",
    "        #Greater than, '>'\n",
    "    \n",
    "\n",
    "\n",
    "        #less than, '<'\n",
    "    \n",
    "\n",
    "        #Greater than or equal to, '>='\n",
    "\n",
    "\n",
    "        #Less than or equal to, '<='    \n",
    "\n",
    "\n",
    "#Observe their output(return type should be boolean)\n",
    "\n",
    "bool_var_1 = bool(int(input('Enter any number between 0-256: ')))\n",
    "bool_var_2 = bool(int(input('Enter any number between 0-256: ')))\n",
    "\n",
    "print('bool_var_1 > bool_var_2', bool_var_1 > bool_var_2)\n",
    "print('bool_var_1 < bool_var_2', bool_var_1 < bool_var_2)\n",
    "print('bool_var_1 <= bool_var_2', bool_var_1 <= bool_var_2)\n",
    "print('bool_var_1 >= bool_var_2', bool_var_1 >= bool_var_2)\n",
    "print('bool_var_1 == bool_var_2', bool_var_1 == bool_var_2)\n",
    "print('bool_var_1 != bool_var_2', bool_var_1 != bool_var_2)\n"
   ]
  },
  {
   "cell_type": "code",
   "execution_count": null,
   "metadata": {},
   "outputs": [],
   "source": []
  }
 ],
 "metadata": {
  "kernelspec": {
   "display_name": "Python 3",
   "language": "python",
   "name": "python3"
  },
  "language_info": {
   "codemirror_mode": {
    "name": "ipython",
    "version": 3
   },
   "file_extension": ".py",
   "mimetype": "text/x-python",
   "name": "python",
   "nbconvert_exporter": "python",
   "pygments_lexer": "ipython3",
   "version": "3.7.3"
  }
 },
 "nbformat": 4,
 "nbformat_minor": 2
}
