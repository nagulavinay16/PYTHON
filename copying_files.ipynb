{
 "cells": [
  {
   "cell_type": "code",
   "execution_count": 2,
   "metadata": {},
   "outputs": [
    {
     "name": "stdout",
     "output_type": "stream",
     "text": [
      "enter 3 friends: vinay,uday,nagula\n",
      "vinay is nearby! meet up\n",
      "nagula is nearby! meet up\n"
     ]
    }
   ],
   "source": [
    "friends=input(\"enter 3 friends: \").split(',')\n",
    "\n",
    "people=open('people.txt','r')\n",
    "people_nearby=[line.strip() for line in people.readlines()]\n",
    "people.close()\n",
    "\n",
    "friends_set=set(friends)\n",
    "people_nearby_set=set(people_nearby)\n",
    "\n",
    "friends_nearby_set=friends_set.intersection(people_nearby_set)\n",
    "nearby_friends_file=open('nearby_friends.txt','w')\n",
    "\n",
    "for friend in friends_nearby_set:\n",
    "    print(f'{friend} is nearby! meet up')\n",
    "    nearby_friends_file.write(f'{friend}\\n')\n",
    "nearby_friends_file.close()\n",
    "                             \n",
    "                "
   ]
  },
  {
   "cell_type": "code",
   "execution_count": null,
   "metadata": {},
   "outputs": [],
   "source": []
  }
 ],
 "metadata": {
  "kernelspec": {
   "display_name": "Python 3",
   "language": "python",
   "name": "python3"
  },
  "language_info": {
   "codemirror_mode": {
    "name": "ipython",
    "version": 3
   },
   "file_extension": ".py",
   "mimetype": "text/x-python",
   "name": "python",
   "nbconvert_exporter": "python",
   "pygments_lexer": "ipython3",
   "version": "3.7.3"
  }
 },
 "nbformat": 4,
 "nbformat_minor": 2
}
