{
 "cells": [
  {
   "cell_type": "code",
   "execution_count": 3,
   "metadata": {},
   "outputs": [
    {
     "name": "stdout",
     "output_type": "stream",
     "text": [
      "sepal length: 5.1, sepal_width: 3.5, petal_length: 1.4, petal_width=0.2, species: Iris-setosa\n",
      "sepal length: 4.9, sepal_width: 3, petal_length: 1.4, petal_width=0.2, species: Iris-setosa\n",
      "sepal length: 4.7, sepal_width: 3.2, petal_length: 1.3, petal_width=0.2, species: Iris-setosa\n",
      "sepal length: 4.6, sepal_width: 3.1, petal_length: 1.5, petal_width=0.2, species: Iris-setosa\n",
      "sepal length: 5, sepal_width: 3.6, petal_length: 1.4, petal_width=0.2, species: Iris-setosa\n",
      "sepal length: 7, sepal_width: 3.2, petal_length: 4.7, petal_width=1.4, species: Iris-versicolor\n",
      "sepal length: 6.4, sepal_width: 3.2, petal_length: 4.5, petal_width=1.5, species: Iris-versicolor\n",
      "sepal length: 6.9, sepal_width: 3.1, petal_length: 4.9, petal_width=1.5, species: Iris-versicolor\n",
      "sepal length: 5.5, sepal_width: 2.3, petal_length: 4, petal_width=1.3, species: Iris-versicolor\n",
      "sepal length: 6.5, sepal_width: 2.8, petal_length: 4.6, petal_width=1.5, species: Iris-versicolor\n",
      "sepal length: 6.3, sepal_width: 3.3, petal_length: 6, petal_width=2.5, species: Iris-virginica\n",
      "sepal length: 5.8, sepal_width: 2.7, petal_length: 5.1, petal_width=1.9, species: Iris-virginica\n",
      "sepal length: 7.1, sepal_width: 3, petal_length: 5.9, petal_width=2.1, species: Iris-virginica\n",
      "sepal length: 6.3, sepal_width: 2.9, petal_length: 5.6, petal_width=1.8, species: Iris-virginica\n",
      "sepal length: 6.5, sepal_width: 3, petal_length: 5.8, petal_width=2.2, species: Iris-virginica\n"
     ]
    }
   ],
   "source": [
    "file=open('iris.txt','r')\n",
    "lines=file.readlines()\n",
    "\n",
    "file.close()\n",
    "\n",
    "lines=[line.strip() for line in lines[1:]]\n",
    "\n",
    "for line in lines:\n",
    "    iris_data=line.split(',')\n",
    "    sepal_length=iris_data[0]\n",
    "    sepal_width=iris_data[1]\n",
    "    petal_length=iris_data[2]\n",
    "    petal_width=iris_data[3]\n",
    "    species=iris_data[4]\n",
    "    \n",
    "    print(f'sepal length: {sepal_length}, sepal_width: {sepal_width}, petal_length: {petal_length}, petal_width={petal_width}, species: {species}' )"
   ]
  },
  {
   "cell_type": "code",
   "execution_count": null,
   "metadata": {},
   "outputs": [],
   "source": []
  },
  {
   "cell_type": "code",
   "execution_count": null,
   "metadata": {},
   "outputs": [],
   "source": []
  }
 ],
 "metadata": {
  "kernelspec": {
   "display_name": "Python 3",
   "language": "python",
   "name": "python3"
  },
  "language_info": {
   "codemirror_mode": {
    "name": "ipython",
    "version": 3
   },
   "file_extension": ".py",
   "mimetype": "text/x-python",
   "name": "python",
   "nbconvert_exporter": "python",
   "pygments_lexer": "ipython3",
   "version": "3.7.3"
  }
 },
 "nbformat": 4,
 "nbformat_minor": 2
}
