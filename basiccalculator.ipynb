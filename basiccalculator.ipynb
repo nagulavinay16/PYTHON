{
 "cells": [
  {
   "cell_type": "code",
   "execution_count": 1,
   "metadata": {},
   "outputs": [
    {
     "name": "stdout",
     "output_type": "stream",
     "text": [
      "Enter a number: 20\n",
      "Enter a number: 30\n",
      "requirement: a\n",
      "50\n",
      "requirement: s\n",
      "-10\n",
      "requirement: m\n",
      "600\n",
      "requirement: d\n",
      "0.6666666666666666\n",
      "requirement: f\n",
      "unknown command\n",
      "requirement: e\n",
      "end of program\n"
     ]
    }
   ],
   "source": [
    "p=int(input(\"Enter a number: \"))\n",
    "q=int(input(\"Enter a number: \"))\n",
    "\n",
    "def add(p,q):\n",
    "    \n",
    "    print(p+q)\n",
    "\n",
    "def substract(p,q):\n",
    "    print(p-q)\n",
    "\n",
    "def multiply(p,q):\n",
    "    print(p*q)\n",
    "\n",
    "def division(p,q):\n",
    "    print(p/q)\n",
    "    \n",
    "\n",
    "def calculate():\n",
    "    select_method=input(\"requirement: \")\n",
    "    while select_method!='e':\n",
    "        if select_method=='a':\n",
    "            add(p,q)\n",
    "        elif select_method=='s':\n",
    "            substract(p,q)\n",
    "        elif select_method=='m':\n",
    "            multiply(p,q)\n",
    "        elif select_method=='d':\n",
    "            division(p,q)\n",
    "        else: \n",
    "            print(\"unknown command\")\n",
    "            \n",
    "        select_method=input(\"requirement: \")\n",
    "    else:\n",
    "        print(\"end of program\")\n",
    "        \n",
    "calculate()\n",
    "    "
   ]
  },
  {
   "cell_type": "code",
   "execution_count": null,
   "metadata": {},
   "outputs": [],
   "source": []
  },
  {
   "cell_type": "code",
   "execution_count": null,
   "metadata": {},
   "outputs": [],
   "source": []
  },
  {
   "cell_type": "code",
   "execution_count": null,
   "metadata": {},
   "outputs": [],
   "source": []
  },
  {
   "cell_type": "code",
   "execution_count": null,
   "metadata": {},
   "outputs": [],
   "source": []
  },
  {
   "cell_type": "code",
   "execution_count": null,
   "metadata": {},
   "outputs": [],
   "source": []
  }
 ],
 "metadata": {
  "kernelspec": {
   "display_name": "Python 3",
   "language": "python",
   "name": "python3"
  },
  "language_info": {
   "codemirror_mode": {
    "name": "ipython",
    "version": 3
   },
   "file_extension": ".py",
   "mimetype": "text/x-python",
   "name": "python",
   "nbconvert_exporter": "python",
   "pygments_lexer": "ipython3",
   "version": "3.7.3"
  }
 },
 "nbformat": 4,
 "nbformat_minor": 2
}
