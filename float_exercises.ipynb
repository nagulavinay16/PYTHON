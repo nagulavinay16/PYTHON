{
 "cells": [
  {
   "cell_type": "code",
   "execution_count": 1,
   "metadata": {},
   "outputs": [
    {
     "name": "stdout",
     "output_type": "stream",
     "text": [
      "10.2\n",
      "<class 'float'>\n",
      "54457264\n"
     ]
    }
   ],
   "source": [
    "#Declare a float value and store it in a variable. \n",
    "num_f = 10.20\n",
    "\n",
    "\n",
    "\n",
    "\n",
    "#Check the type and print the id of the same.\n",
    "print(num_f)\n",
    "print(type(num_f))\n",
    "print(id(num_f))\n"
   ]
  },
  {
   "cell_type": "code",
   "execution_count": 2,
   "metadata": {},
   "outputs": [
    {
     "name": "stdout",
     "output_type": "stream",
     "text": [
      "Enter 1st float number: 20.6\n",
      "Enter 2nd float number: 50.4\n",
      "Sum of 20.6 and 50.4 is 71.0\n",
      "Difference of 20.6 and 50.4 is -29.799999999999997\n",
      "Product of 20.6 and 50.4 is 1038.24\n",
      "Division result of 20.6 and 50.4 is 0.4087301587301588\n",
      "Quotient of 20.6 and 50.4 is 0.0\n",
      "Remainder of 20.6 and 50.4 is 20.6\n",
      "Result of 20.6 to the power of 50.4 is 1.655418889908314e+66\n"
     ]
    }
   ],
   "source": [
    "#Arithmatic Operations on float\n",
    "#Take two different float values.\n",
    "#Store them in two different variables.\n",
    "\n",
    "#Do below operations on them:-\n",
    "    #Find sum of both numbers\n",
    "\n",
    "    #Find differce between them\n",
    "    #Find the product of both numbers.\n",
    "\n",
    "    #Find value after dividing first num with second number\n",
    "\n",
    "    #Find the remainder after dividing first number with second number\n",
    "\n",
    "    #Find the quotient after dividing first number with second number\n",
    "\n",
    "    #Find the result of first num to the power of second number.\n",
    "\n",
    "float_num_1 = float(input('Enter 1st float number: '))\n",
    "float_num_2 = float(input('Enter 2nd float number: '))\n",
    "print(f'Sum of {float_num_1} and {float_num_2} is {float_num_1 + float_num_2}')\n",
    "print(f'Difference of {float_num_1} and {float_num_2} is {float_num_1 - float_num_2}')\n",
    "print(f'Product of {float_num_1} and {float_num_2} is {float_num_1 * float_num_2}')\n",
    "print(f'Division result of {float_num_1} and {float_num_2} is {float_num_1 / float_num_2}')\n",
    "print(f'Quotient of {float_num_1} and {float_num_2} is {float_num_1 // float_num_2}')\n",
    "print(f'Remainder of {float_num_1} and {float_num_2} is {float_num_1 % float_num_2}')\n",
    "print(f'Result of {float_num_1} to the power of {float_num_2} is {float_num_1 ** float_num_2}')"
   ]
  },
  {
   "cell_type": "code",
   "execution_count": 3,
   "metadata": {},
   "outputs": [
    {
     "name": "stdout",
     "output_type": "stream",
     "text": [
      "Enter 1st float number: 50.6\n",
      "Enter 2nd float number: 72.3\n",
      "Float_num_1 greater than Float_num_2 False\n",
      "Float_num_1 less than Float_num_2 True\n",
      "Float_num_1 greater than or equal to Float_num_2 False\n",
      "Float_num_1 less than or equal to Float_num_2 True\n"
     ]
    }
   ],
   "source": [
    "#Comparison Operators on float\n",
    "#Take two different float values.\n",
    "#Store them in two different variables.\n",
    "\n",
    "#Do below operations on them:-\n",
    "    #Compare these two numbers with below operator:-\n",
    "        #Greater than, '>'\n",
    "\n",
    "        #Smaller than, '<'\n",
    "\n",
    "        #Greater than or equal to, '>='\n",
    "\n",
    "        #Less than or equal to, '<='\n",
    "\n",
    "#Observe their output(return type should be boolean)\n",
    "\n",
    "\n",
    "float_num_1 = float(input('Enter 1st float number: '))\n",
    "float_num_2 = float(input('Enter 2nd float number: '))\n",
    "print('Float_num_1 greater than Float_num_2', float_num_1>float_num_2)\n",
    "print('Float_num_1 less than Float_num_2', float_num_1<float_num_2)\n",
    "print('Float_num_1 greater than or equal to Float_num_2', float_num_1>=float_num_2)\n",
    "print('Float_num_1 less than or equal to Float_num_2', float_num_1<=float_num_2)\n"
   ]
  },
  {
   "cell_type": "code",
   "execution_count": 4,
   "metadata": {},
   "outputs": [
    {
     "name": "stdout",
     "output_type": "stream",
     "text": [
      "Enter 1st float number: 20.6\n",
      "Enter 2nd float number: 72.4\n",
      "Float_num_1 == Float_num_2 False\n",
      "Float_num_1 != Float_num_2 True\n"
     ]
    }
   ],
   "source": [
    "#Equality Operator\n",
    "#Take two different float values.\n",
    "#Store them in two different variables.\n",
    "\n",
    "#Equuate them using equality operator (==, !=)\n",
    "\n",
    "#Observe the output(return type should be boolean)\n",
    "\n",
    "float_num_1 = float(input('Enter 1st float number: '))\n",
    "float_num_2 = float(input('Enter 2nd float number: '))\n",
    "print('Float_num_1 == Float_num_2', float_num_1==float_num_2)\n",
    "print('Float_num_1 != Float_num_2', float_num_1!=float_num_2)"
   ]
  },
  {
   "cell_type": "code",
   "execution_count": 5,
   "metadata": {},
   "outputs": [
    {
     "name": "stdout",
     "output_type": "stream",
     "text": [
      "20.3\n",
      "0.0\n",
      "0.0\n",
      "0.0\n",
      "10.2\n",
      "20.3\n",
      "20.3\n",
      "0\n",
      "False\n",
      "True\n"
     ]
    }
   ],
   "source": [
    "#Logical operators\n",
    "#Observe the output of below code\n",
    "#Cross check the output manually\n",
    "\n",
    "print(10.20 and 20.30)       #both are true and second value taken >Output is 20.3\n",
    "print(0.0 and 20.30)         #First is false so first value taken->Output is 0.0\n",
    "print(20.30 and 0.0)         #Goes to till second and second value is false so second is taken>Output is 0.0\n",
    "print(0.0 and 0)           #First is false so first value is taken->Output is 0.0\n",
    "\n",
    "print(10.20 or 20.30)        #First is True so first value is taken>Output is 10.2\n",
    "print(0.0 or 20.30)          #Goes to till second and second is true second value is taken->Output is 20.3\n",
    "print(20.30 or 0.0)          #First is True so first value is taken->Output is 20.3\n",
    "print(0.0 or 0)            #Goes to till second and secod is also false and second value is taken>Output is 0.0\n",
    "\n",
    "print(not 10.20)             #-Not of true is false->Output is False\n",
    "print(not 0.0)               #Not of false is True>Output is True"
   ]
  },
  {
   "cell_type": "code",
   "execution_count": 6,
   "metadata": {},
   "outputs": [
    {
     "name": "stdout",
     "output_type": "stream",
     "text": [
      "True\n",
      "True\n",
      "True\n",
      "True\n",
      "True\n",
      "True\n"
     ]
    }
   ],
   "source": [
    "#Membership operation\n",
    "#in, not in are two membership operators and it returns boolean value\n",
    "\n",
    "print('2.7' in 'Python2.7.8')              #True\n",
    "print(10.20 in [10,10.20,10+20j,'Python']) #True\n",
    "print(10.20 in (10,10.20,10+20j,'Python')) # True\n",
    "print(20.30 in {1,20.30,30+40j})           # True\n",
    "print(2.3 in {1:100, 2.3:200, 30+40j:300}) # True\n",
    "print(10 in range(20))                     # True"
   ]
  },
  {
   "cell_type": "code",
   "execution_count": null,
   "metadata": {},
   "outputs": [],
   "source": []
  }
 ],
 "metadata": {
  "kernelspec": {
   "display_name": "Python 3",
   "language": "python",
   "name": "python3"
  },
  "language_info": {
   "codemirror_mode": {
    "name": "ipython",
    "version": 3
   },
   "file_extension": ".py",
   "mimetype": "text/x-python",
   "name": "python",
   "nbconvert_exporter": "python",
   "pygments_lexer": "ipython3",
   "version": "3.7.3"
  }
 },
 "nbformat": 4,
 "nbformat_minor": 2
}
