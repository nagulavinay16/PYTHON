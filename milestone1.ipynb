{
 "cells": [
  {
   "cell_type": "code",
   "execution_count": 2,
   "metadata": {},
   "outputs": [
    {
     "name": "stdout",
     "output_type": "stream",
     "text": [
      "requirement: a\n",
      "what is title name? sdhse\n",
      "who is director? afdse\n",
      "release year? 1998\n",
      "requirement: q\n",
      "quit\n"
     ]
    }
   ],
   "source": [
    "movies=[]\n",
    "\n",
    "def add_movie():\n",
    "    \n",
    "        title = input(\"what is title name? \")\n",
    "        director = input(\"who is director? \")\n",
    "        year = input(\"release year? \")\n",
    "    \n",
    "    \n",
    "        movies.append({\n",
    "         'title': title,\n",
    "         'director':director,\n",
    "         'year':year\n",
    "\n",
    "       })\n",
    "\n",
    "\n",
    "def show_movies():\n",
    "    for movie in movies:\n",
    "        print_movie(movie)\n",
    "def print_movie(movie):\n",
    "    print(f\"Title: {movie['title']}\")\n",
    "    print(f\"Director:{movie['director']}\")\n",
    "    print(f\"Year: {movie['year']}\")\n",
    "\n",
    "          \n",
    "def find_movies():\n",
    "          search=input(\"what movie you want to search? \")\n",
    "        \n",
    "          for movie in movies:\n",
    "              if movie[\"title\"]==search:\n",
    "                  print_movie(movie)\n",
    "              else:\n",
    "                  print(\"movie is not in library\")\n",
    "          \n",
    "          \n",
    "def menu():\n",
    "    selection=input(\"requirement: \")\n",
    "    while selection!='q':        \n",
    "           if selection=='a':\n",
    "                add_movie()\n",
    "           elif selection=='s':\n",
    "                show_movies()\n",
    "           elif selection=='f':\n",
    "                find_movies()\n",
    "           else:\n",
    "                print(\"unknowm Command\")\n",
    "           selection=input(\"requirement: \")\n",
    "    else:\n",
    "          print(\"quit\")\n",
    "    \n",
    "          \n",
    "menu()\n",
    "          "
   ]
  },
  {
   "cell_type": "code",
   "execution_count": null,
   "metadata": {},
   "outputs": [],
   "source": []
  },
  {
   "cell_type": "code",
   "execution_count": null,
   "metadata": {},
   "outputs": [],
   "source": []
  }
 ],
 "metadata": {
  "kernelspec": {
   "display_name": "Python 3",
   "language": "python",
   "name": "python3"
  },
  "language_info": {
   "codemirror_mode": {
    "name": "ipython",
    "version": 3
   },
   "file_extension": ".py",
   "mimetype": "text/x-python",
   "name": "python",
   "nbconvert_exporter": "python",
   "pygments_lexer": "ipython3",
   "version": "3.7.3"
  }
 },
 "nbformat": 4,
 "nbformat_minor": 2
}
