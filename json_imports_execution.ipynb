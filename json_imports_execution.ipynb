{
 "cells": [
  {
   "cell_type": "code",
   "execution_count": 12,
   "metadata": {},
   "outputs": [
    {
     "name": "stdout",
     "output_type": "stream",
     "text": [
      "{'name': 'anna', 'degree': 'applied computing'}\n",
      "vinay\n"
     ]
    }
   ],
   "source": [
    "import json\n",
    "\n",
    "file=open('json_imports.txt','r')                 #turns json to dict\n",
    "file_contents=json.load(file)    #reads file and turns to a dictionary\n",
    "\n",
    "\n",
    "\n",
    "file.close()\n",
    "\n",
    "print(file_contents['friends'][0])\n",
    "\n",
    "cars=[                                           #turns dict to json script\n",
    "    {'make':'Ford','model':'Fiesta'},\n",
    "    {'make':'Ford','model':'Focus'}\n",
    "]\n",
    "\n",
    "file=open('cars_json.txt','w')\n",
    "json.dump(cars,file)\n",
    "\n",
    "file.close()\n",
    "\n",
    "\n",
    "my_json_string='[{\"name\":\"vinay\",\"study\":\"engg\"}]'\n",
    "\n",
    "incorrect_car=json.loads(my_json_string)         #loads turns string to a dictionary\n",
    "print(incorrect_car[0]['name'])"
   ]
  },
  {
   "cell_type": "code",
   "execution_count": null,
   "metadata": {},
   "outputs": [],
   "source": []
  }
 ],
 "metadata": {
  "kernelspec": {
   "display_name": "Python 3",
   "language": "python",
   "name": "python3"
  },
  "language_info": {
   "codemirror_mode": {
    "name": "ipython",
    "version": 3
   },
   "file_extension": ".py",
   "mimetype": "text/x-python",
   "name": "python",
   "nbconvert_exporter": "python",
   "pygments_lexer": "ipython3",
   "version": "3.7.3"
  }
 },
 "nbformat": 4,
 "nbformat_minor": 2
}
