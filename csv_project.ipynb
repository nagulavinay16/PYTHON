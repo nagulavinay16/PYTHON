{
 "cells": [
  {
   "cell_type": "code",
   "execution_count": 5,
   "metadata": {},
   "outputs": [
    {
     "name": "stdout",
     "output_type": "stream",
     "text": [
      "vinay is 24, from vnr plays cricket\n",
      "selvam is 24, from pec plays football\n",
      "prem is 24, from vjm plays volleyball\n",
      "ram is 24, from nijam plays hockey\n"
     ]
    }
   ],
   "source": [
    "file = open('person_data.txt','r')\n",
    "\n",
    "lines=file.readlines()\n",
    "\n",
    "file.close()\n",
    "\n",
    "lines=[line.strip() for line in lines[1:]]\n",
    "for line in lines:\n",
    "    person_data=line.split(',')\n",
    "    name=person_data[0]\n",
    "    age=person_data[1]\n",
    "    university=person_data[2]\n",
    "    game=person_data[3]\n",
    "    \n",
    "    print(f'{name} is {age}, from {university} plays {game}')\n",
    "\n"
   ]
  },
  {
   "cell_type": "code",
   "execution_count": null,
   "metadata": {},
   "outputs": [],
   "source": []
  }
 ],
 "metadata": {
  "kernelspec": {
   "display_name": "Python 3",
   "language": "python",
   "name": "python3"
  },
  "language_info": {
   "codemirror_mode": {
    "name": "ipython",
    "version": 3
   },
   "file_extension": ".py",
   "mimetype": "text/x-python",
   "name": "python",
   "nbconvert_exporter": "python",
   "pygments_lexer": "ipython3",
   "version": "3.7.3"
  }
 },
 "nbformat": 4,
 "nbformat_minor": 2
}
