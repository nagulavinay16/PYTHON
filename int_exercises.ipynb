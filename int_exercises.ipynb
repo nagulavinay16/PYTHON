{
 "cells": [
  {
   "cell_type": "code",
   "execution_count": 1,
   "metadata": {},
   "outputs": [
    {
     "name": "stdout",
     "output_type": "stream",
     "text": [
      "<class 'int'>\n",
      "1467599296\n"
     ]
    }
   ],
   "source": [
    "#Declare an int value and store it in a variable. \n",
    "\n",
    "int_a = 20\n",
    "\n",
    "#Check the type and print the id of the same.\n",
    "print(type(int_a))\n",
    "print(id(int_a))"
   ]
  },
  {
   "cell_type": "code",
   "execution_count": 2,
   "metadata": {},
   "outputs": [
    {
     "name": "stdout",
     "output_type": "stream",
     "text": [
      "1467603056\n",
      "1467603056\n",
      "------------------------------------------------------------\n",
      "54458176\n",
      "54458144\n"
     ]
    }
   ],
   "source": [
    "#Take one int value between 0 - 256.\n",
    "#Assign it to two different variables.\n",
    "#Check the id of both the variables. It should come same. Check why?\n",
    "\n",
    "a = 255\n",
    "b = 255\n",
    "print(id(a))\n",
    "print(id(b))\n",
    "\n",
    "#Take one int value either less than -5 or greater than 256.\n",
    "#Assign it to two different variables.\n",
    "#Check the id of both the variables. It should come different.Check why?\n",
    "print(\"------\"*10)\n",
    "a = -7\n",
    "b = -7\n",
    "print(id(a))\n",
    "print(id(b))"
   ]
  },
  {
   "cell_type": "code",
   "execution_count": 3,
   "metadata": {},
   "outputs": [
    {
     "name": "stdout",
     "output_type": "stream",
     "text": [
      "138\n",
      "118\n",
      "1280\n",
      "12\n",
      "8\n",
      "12.8\n",
      "1180591620717411303424\n"
     ]
    }
   ],
   "source": [
    "#Arithmatic Operations on integers\n",
    "#Take two different intger values.\n",
    "#Store them in two different variables.\n",
    "#Do below operations on them:-\n",
    "    #Find sum of both numbers\n",
    "    #Find differce between them\n",
    "    #Find the product of both numbers.\n",
    "    #Find value after dividing first num with second number\n",
    "    #Find the remainder after dividing first number with second number\n",
    "    #Find the quotient after dividing first number with second number\n",
    "    #Find the result of first num to the power of second number.\n",
    "    \n",
    "first_num = 128\n",
    "second_num = 10\n",
    "\n",
    "sum_nums = first_num + second_num\n",
    "diff_nums = first_num - second_num\n",
    "prod_nums = first_num * second_num\n",
    "div_nums = first_num // second_num\n",
    "rem_nums = first_num % second_num\n",
    "quo_nums = first_num / second_num\n",
    "pow_nums = first_num ** second_num\n",
    "\n",
    "print(sum_nums)\n",
    "print(diff_nums)\n",
    "print(prod_nums)\n",
    "print(div_nums)\n",
    "print(rem_nums)\n",
    "print(quo_nums)\n",
    "print(pow_nums)\n"
   ]
  },
  {
   "cell_type": "code",
   "execution_count": 4,
   "metadata": {},
   "outputs": [
    {
     "name": "stdout",
     "output_type": "stream",
     "text": [
      "False\n",
      "True\n",
      "False\n",
      "True\n",
      "--------------------\n",
      "True\n",
      "False\n",
      "True\n",
      "False\n"
     ]
    }
   ],
   "source": [
    "#Comparison Operators on integers\n",
    "#Take two different intger values.\n",
    "#Store them in two different variables.\n",
    "#Do below operations on them:-\n",
    "    #Compare se two numbers with below operator:-\n",
    "        #Greater than, '>'\n",
    "        #Smaller than, '<'\n",
    "        #Greater than or equal to, '>='\n",
    "        #Less than or equal to, '<='\n",
    "#Observe their output(return type should be boolean)\n",
    "\n",
    "comp_one = 25\n",
    "comp_two = 50\n",
    "\n",
    "print(comp_one > comp_two)\n",
    "print(comp_one < comp_two)\n",
    "print(comp_one >= comp_two)\n",
    "print(comp_one <= comp_two)\n",
    "print(\"--\"*10)\n",
    "print(comp_two > comp_one)\n",
    "print(comp_two < comp_one)\n",
    "print(comp_two >= comp_one)\n",
    "print(comp_two <= comp_one)"
   ]
  },
  {
   "cell_type": "code",
   "execution_count": 5,
   "metadata": {},
   "outputs": [
    {
     "name": "stdout",
     "output_type": "stream",
     "text": [
      "0\n",
      "24\n",
      "24\n",
      "-17\n",
      "3\n",
      "5\n",
      "128\n",
      "1\n"
     ]
    }
   ],
   "source": [
    "#Bitwise Operators\n",
    "#Do below operations on the values provided below:-\n",
    "    #Bitwise and(&) -----------------------------------------> 16, 8   -------> Output is 0\n",
    "    #Bitwise or(|)  -----------------------------------------> 16, 8   -------> Output is 24\n",
    "    #Bitwise(^)     -----------------------------------------> 16, 8   -------> Output is 24\n",
    "    #Bitwise negation(~) ------------------------------------> 16       -------> Output is -17\n",
    "    #Bitwise negation(~) and '-' ----------------------------> 4       -------> Output is 3\n",
    "    #'-' and Bitwise negation(~) ----------------------------> 4       -------> Output is 5\n",
    "    #Bitwise left shift  ------------------------------------> 16,3     -------> Output is 128\n",
    "    #Bitwise right shift ------------------------------------> 15,3     -------> Output is 1\n",
    "#Cross check the output manually\n",
    "\n",
    "print(16&8)\n",
    "print(16|8)\n",
    "print(16^8)\n",
    "print(~16)\n",
    "print(~-4) \n",
    "print(-~4)\n",
    "print(16<<3)\n",
    "print(15>>3)\n",
    "# 16- 10000 2-10\n",
    "# 8 - 01000 128-10000000\n",
    "# (-(16+1))\n",
    "# (-(-4+1))\n",
    "# -(-(4+1))\n"
   ]
  },
  {
   "cell_type": "code",
   "execution_count": 6,
   "metadata": {},
   "outputs": [
    {
     "name": "stdout",
     "output_type": "stream",
     "text": [
      "61\n",
      "217767\n",
      "4898041\n",
      "=====\n",
      "0b10011010010100\n",
      "0o23224\n",
      "0x2694\n"
     ]
    }
   ],
   "source": [
    "#An integer can be represented in binary, octal or hexadecimal form.\n",
    "#Declare one binary, one octal and one hexadecimal value and store them in three different variables.\n",
    "#Convert 9876 to its binary, octal and hexadecimal equivalent and print their corresponding value.\n",
    "\n",
    "bin_num = 0B111101\n",
    "oct_num = 0O651247\n",
    "hex_num = 0X4ABCF9\n",
    "print(bin_num)\n",
    "print(oct_num)\n",
    "print(hex_num)\n",
    "print('='*5)\n",
    "print(bin(9876))\n",
    "print(oct(9876))\n",
    "print(hex(9876))"
   ]
  },
  {
   "cell_type": "code",
   "execution_count": 7,
   "metadata": {},
   "outputs": [
    {
     "name": "stdout",
     "output_type": "stream",
     "text": [
      "80\n",
      "3870\n",
      "64222\n",
      "0b1010000\n",
      "0o7436\n",
      "0xfade\n",
      "0b1010000\n",
      "0b1111101011011110\n",
      "0o175336\n",
      "0o7436\n",
      "0x50\n",
      "0xfade\n",
      "0b10111101\n"
     ]
    }
   ],
   "source": [
    "#What will be the outut of following:-\n",
    "a = 0b1010000\n",
    "print(a)\n",
    "# 80\n",
    "b = 0o7436\n",
    "print(b)\n",
    "# 3870\n",
    "c = 0xfade\n",
    "print(c)\n",
    "# 64222\n",
    "\n",
    "print(bin(80))\n",
    "\n",
    "print(oct(3870))\n",
    "\n",
    "print(hex(64222))\n",
    "\n",
    "print(bin(0b1010000))\n",
    "\n",
    "print(bin(0xfade))\n",
    "\n",
    "print(oct(0xfade))\n",
    "\n",
    "print(oct(0o7436))\n",
    "\n",
    "print(hex(0b1010000))\n",
    "\n",
    "print(hex(0xfade))\n",
    "\n",
    "print(bin(0o275))"
   ]
  },
  {
   "cell_type": "code",
   "execution_count": null,
   "metadata": {},
   "outputs": [],
   "source": []
  }
 ],
 "metadata": {
  "kernelspec": {
   "display_name": "Python 3",
   "language": "python",
   "name": "python3"
  },
  "language_info": {
   "codemirror_mode": {
    "name": "ipython",
    "version": 3
   },
   "file_extension": ".py",
   "mimetype": "text/x-python",
   "name": "python",
   "nbconvert_exporter": "python",
   "pygments_lexer": "ipython3",
   "version": "3.7.3"
  }
 },
 "nbformat": 4,
 "nbformat_minor": 2
}
